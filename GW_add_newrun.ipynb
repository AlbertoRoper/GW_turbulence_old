{
 "cells": [
  {
   "cell_type": "code",
   "execution_count": 1,
   "metadata": {},
   "outputs": [
    {
     "data": {
      "text/plain": [
       "{'ini1': 'M1152e_exp6k4_M4b',\n",
       " 'ini2': 'M1152e_exp6k4',\n",
       " 'ini3': 'M1152e_exp6k4_k60b',\n",
       " 'hel1': 'F1152d2_sig1_t11_M2c_double',\n",
       " 'hel2': 'F1152a_sig1_t11d_double',\n",
       " 'hel3': 'F1152a_sig1',\n",
       " 'hel4': 'F1152a_k10_sig1',\n",
       " 'noh1': 'F1152b_sig0_t11_M4',\n",
       " 'noh2': 'F1152a_sig0_t11b',\n",
       " 'ac1': 'E1152e_t11_M4d_double',\n",
       " 'ac2': 'E1152e_t11_M4a_double',\n",
       " 'ac3': 'E1152e_t11_M4e_double',\n",
       " 'K0': 'K512sig0_k6_ramp1a',\n",
       " 'K01_c': 'K512sig01_k6_ramp1c',\n",
       " 'K01_a': 'K512sig01_k6_ramp1a',\n",
       " 'K03': 'K512sig03_k6_ramp1a',\n",
       " 'K05': 'K512sig05_k6_ramp1a',\n",
       " 'K1': 'K512sig1_k6_ramp1a',\n",
       " 'M0': 'M512sig0_k6_ramp1a',\n",
       " 'M01_c': 'M512sig01_k6_ramp1c',\n",
       " 'M01_b': 'M512sig01_k6_ramp1b',\n",
       " 'M03': 'M512sig03_k6_ramp1a',\n",
       " 'M05': 'M512sig05_k6_ramp1a',\n",
       " 'M1': 'M512sig1_k6_ramp1a',\n",
       " 'nohel_tau01': 'F1152a_sig0_t11_M4_ramp01b',\n",
       " 'nohel_tau02': 'F1152a_sig0_t11_M4_ramp02a',\n",
       " 'nohel_tau05': 'F1152a_sig0_t11_M4_ramp05a',\n",
       " 'nohel_tau1': 'F1152a_sig0_t11_M4_ramp1a',\n",
       " 'nohel_tau2': 'F1152a_sig0_t11_M4_ramp2a'}"
      ]
     },
     "execution_count": 1,
     "metadata": {},
     "output_type": "execute_result"
    }
   ],
   "source": [
    "# Print the available runs \n",
    "\n",
    "import run as r\n",
    "# To check the directories that are avaible one can run\n",
    "r.read_dirs()"
   ]
  },
  {
   "cell_type": "code",
   "execution_count": 2,
   "metadata": {},
   "outputs": [],
   "source": [
    "import reading as read\n",
    "\n",
    "read.add_run('test_run', 'test_directory', 'run2.py')"
   ]
  },
  {
   "cell_type": "code",
   "execution_count": 3,
   "metadata": {
    "scrolled": false
   },
   "outputs": [
    {
     "data": {
      "text/plain": [
       "{'test_run': 'test_directory',\n",
       " 'ini1': 'M1152e_exp6k4_M4b',\n",
       " 'ini2': 'M1152e_exp6k4',\n",
       " 'ini3': 'M1152e_exp6k4_k60b',\n",
       " 'hel1': 'F1152d2_sig1_t11_M2c_double',\n",
       " 'hel2': 'F1152a_sig1_t11d_double',\n",
       " 'hel3': 'F1152a_sig1',\n",
       " 'hel4': 'F1152a_k10_sig1',\n",
       " 'noh1': 'F1152b_sig0_t11_M4',\n",
       " 'noh2': 'F1152a_sig0_t11b',\n",
       " 'ac1': 'E1152e_t11_M4d_double',\n",
       " 'ac2': 'E1152e_t11_M4a_double',\n",
       " 'ac3': 'E1152e_t11_M4e_double',\n",
       " 'K0': 'K512sig0_k6_ramp1a',\n",
       " 'K01_c': 'K512sig01_k6_ramp1c',\n",
       " 'K01_a': 'K512sig01_k6_ramp1a',\n",
       " 'K03': 'K512sig03_k6_ramp1a',\n",
       " 'K05': 'K512sig05_k6_ramp1a',\n",
       " 'K1': 'K512sig1_k6_ramp1a',\n",
       " 'M0': 'M512sig0_k6_ramp1a',\n",
       " 'M01_c': 'M512sig01_k6_ramp1c',\n",
       " 'M01_b': 'M512sig01_k6_ramp1b',\n",
       " 'M03': 'M512sig03_k6_ramp1a',\n",
       " 'M05': 'M512sig05_k6_ramp1a',\n",
       " 'M1': 'M512sig1_k6_ramp1a',\n",
       " 'nohel_tau01': 'F1152a_sig0_t11_M4_ramp01b',\n",
       " 'nohel_tau02': 'F1152a_sig0_t11_M4_ramp02a',\n",
       " 'nohel_tau05': 'F1152a_sig0_t11_M4_ramp05a',\n",
       " 'nohel_tau1': 'F1152a_sig0_t11_M4_ramp1a',\n",
       " 'nohel_tau2': 'F1152a_sig0_t11_M4_ramp2a'}"
      ]
     },
     "execution_count": 3,
     "metadata": {},
     "output_type": "execute_result"
    }
   ],
   "source": [
    "import run2 as r\n",
    "# Now we can check the new list of runs available in run2.py\n",
    "# Note that rerunning the Kernel is necessary to reread the python routines in the directory\n",
    "r.read_dirs()"
   ]
  },
  {
   "cell_type": "code",
   "execution_count": null,
   "metadata": {},
   "outputs": [],
   "source": []
  }
 ],
 "metadata": {
  "kernelspec": {
   "display_name": "Python 3",
   "language": "python",
   "name": "python3"
  },
  "language_info": {
   "codemirror_mode": {
    "name": "ipython",
    "version": 3
   },
   "file_extension": ".py",
   "mimetype": "text/x-python",
   "name": "python",
   "nbconvert_exporter": "python",
   "pygments_lexer": "ipython3",
   "version": "3.8.5"
  }
 },
 "nbformat": 4,
 "nbformat_minor": 4
}
